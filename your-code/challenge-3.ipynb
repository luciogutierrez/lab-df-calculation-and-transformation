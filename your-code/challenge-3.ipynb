{
 "cells": [
  {
   "cell_type": "markdown",
   "metadata": {},
   "source": [
    "# Challenge 3\n",
    "\n",
    "In this challenge we will work on the `Orders.csv` data set in the previous [Subsetting and Descriptive Stats lab](../../lab-subsetting-and-descriptive-stats/your-code/main.ipynb). In your work you will apply the thinking process and workflow we showed you in Challenge 2.\n",
    "\n",
    "You are serving as a Business Intelligence Analyst at the headquarter of an international fashion goods chain store. Your boss today asked you to do two things for her:\n",
    "\n",
    "**First, identify two groups of customers from the data set.** The first group is **VIP Customers** whose **aggregated expenses** at your global chain stores are **above the 95th percentile** (aka. 0.95 quantile). The second group is **Preferred Customers** whose **aggregated expenses** are **between the 75th and 95th percentile**.\n",
    "\n",
    "**Second, identify which country has the most of your VIP customers, and which country has the most of your VIP+Preferred Customers combined.**"
   ]
  },
  {
   "cell_type": "markdown",
   "metadata": {},
   "source": [
    "# Q1: How to identify VIP & Preferred Customers?\n",
    "\n",
    "We start by importing all the required libraries:"
   ]
  },
  {
   "cell_type": "code",
   "execution_count": 1,
   "metadata": {},
   "outputs": [],
   "source": [
    "# import required libraries\n",
    "import numpy as np\n",
    "import pandas as pd"
   ]
  },
  {
   "cell_type": "markdown",
   "metadata": {},
   "source": [
    "Next, import `Orders.csv` from the \"subsetting\" lab folder into a dataframe variable called `orders`. Print the head of `orders` to overview the data:"
   ]
  },
  {
   "cell_type": "code",
   "execution_count": 2,
   "metadata": {},
   "outputs": [
    {
     "output_type": "execute_result",
     "data": {
      "text/plain": [
       "   Unnamed: 0  InvoiceNo StockCode  year  month  day  hour  \\\n",
       "0           0     536365    85123A  2010     12    3     8   \n",
       "1           1     536365     71053  2010     12    3     8   \n",
       "2           2     536365    84406B  2010     12    3     8   \n",
       "3           3     536365    84029G  2010     12    3     8   \n",
       "4           4     536365    84029E  2010     12    3     8   \n",
       "\n",
       "                           Description  Quantity          InvoiceDate  \\\n",
       "0   white hanging heart t-light holder         6  2010-12-01 08:26:00   \n",
       "1                  white metal lantern         6  2010-12-01 08:26:00   \n",
       "2       cream cupid hearts coat hanger         8  2010-12-01 08:26:00   \n",
       "3  knitted union flag hot water bottle         6  2010-12-01 08:26:00   \n",
       "4       red woolly hottie white heart.         6  2010-12-01 08:26:00   \n",
       "\n",
       "   UnitPrice  CustomerID         Country  amount_spent  \n",
       "0       2.55       17850  United Kingdom         15.30  \n",
       "1       3.39       17850  United Kingdom         20.34  \n",
       "2       2.75       17850  United Kingdom         22.00  \n",
       "3       3.39       17850  United Kingdom         20.34  \n",
       "4       3.39       17850  United Kingdom         20.34  "
      ],
      "text/html": "<div>\n<style scoped>\n    .dataframe tbody tr th:only-of-type {\n        vertical-align: middle;\n    }\n\n    .dataframe tbody tr th {\n        vertical-align: top;\n    }\n\n    .dataframe thead th {\n        text-align: right;\n    }\n</style>\n<table border=\"1\" class=\"dataframe\">\n  <thead>\n    <tr style=\"text-align: right;\">\n      <th></th>\n      <th>Unnamed: 0</th>\n      <th>InvoiceNo</th>\n      <th>StockCode</th>\n      <th>year</th>\n      <th>month</th>\n      <th>day</th>\n      <th>hour</th>\n      <th>Description</th>\n      <th>Quantity</th>\n      <th>InvoiceDate</th>\n      <th>UnitPrice</th>\n      <th>CustomerID</th>\n      <th>Country</th>\n      <th>amount_spent</th>\n    </tr>\n  </thead>\n  <tbody>\n    <tr>\n      <th>0</th>\n      <td>0</td>\n      <td>536365</td>\n      <td>85123A</td>\n      <td>2010</td>\n      <td>12</td>\n      <td>3</td>\n      <td>8</td>\n      <td>white hanging heart t-light holder</td>\n      <td>6</td>\n      <td>2010-12-01 08:26:00</td>\n      <td>2.55</td>\n      <td>17850</td>\n      <td>United Kingdom</td>\n      <td>15.30</td>\n    </tr>\n    <tr>\n      <th>1</th>\n      <td>1</td>\n      <td>536365</td>\n      <td>71053</td>\n      <td>2010</td>\n      <td>12</td>\n      <td>3</td>\n      <td>8</td>\n      <td>white metal lantern</td>\n      <td>6</td>\n      <td>2010-12-01 08:26:00</td>\n      <td>3.39</td>\n      <td>17850</td>\n      <td>United Kingdom</td>\n      <td>20.34</td>\n    </tr>\n    <tr>\n      <th>2</th>\n      <td>2</td>\n      <td>536365</td>\n      <td>84406B</td>\n      <td>2010</td>\n      <td>12</td>\n      <td>3</td>\n      <td>8</td>\n      <td>cream cupid hearts coat hanger</td>\n      <td>8</td>\n      <td>2010-12-01 08:26:00</td>\n      <td>2.75</td>\n      <td>17850</td>\n      <td>United Kingdom</td>\n      <td>22.00</td>\n    </tr>\n    <tr>\n      <th>3</th>\n      <td>3</td>\n      <td>536365</td>\n      <td>84029G</td>\n      <td>2010</td>\n      <td>12</td>\n      <td>3</td>\n      <td>8</td>\n      <td>knitted union flag hot water bottle</td>\n      <td>6</td>\n      <td>2010-12-01 08:26:00</td>\n      <td>3.39</td>\n      <td>17850</td>\n      <td>United Kingdom</td>\n      <td>20.34</td>\n    </tr>\n    <tr>\n      <th>4</th>\n      <td>4</td>\n      <td>536365</td>\n      <td>84029E</td>\n      <td>2010</td>\n      <td>12</td>\n      <td>3</td>\n      <td>8</td>\n      <td>red woolly hottie white heart.</td>\n      <td>6</td>\n      <td>2010-12-01 08:26:00</td>\n      <td>3.39</td>\n      <td>17850</td>\n      <td>United Kingdom</td>\n      <td>20.34</td>\n    </tr>\n  </tbody>\n</table>\n</div>"
     },
     "metadata": {},
     "execution_count": 2
    }
   ],
   "source": [
    "# enter your code here\n",
    "orders = pd.read_csv(\"Orders.csv\")\n",
    "orders.head()"
   ]
  },
  {
   "cell_type": "markdown",
   "metadata": {},
   "source": [
    "---\n",
    "\n",
    "\"Identify VIP and Preferred Customers\" is the non-technical goal of your boss. You need to translate that goal into technical languages that data analysts use:\n",
    "\n",
    "## How to label customers whose aggregated `amount_spent` is in a given quantile range?\n"
   ]
  },
  {
   "cell_type": "markdown",
   "metadata": {},
   "source": [
    "We break down the main problem into several sub problems:\n",
    "\n",
    "#### Sub Problem 1: How to aggregate the  `amount_spent` for unique customers?\n",
    "\n",
    "#### Sub Problem 2: How to select customers whose aggregated `amount_spent` is in a given quantile range?\n",
    "\n",
    "#### Sub Problem 3: How to label selected customers as \"VIP\" or \"Preferred\"?\n",
    "\n",
    "*Note: If you want to break down the main problem in a different way, please feel free to revise the sub problems above.*\n",
    "\n",
    "Now in the workspace below, tackle each of the sub problems using the iterative problem solving workflow. Insert cells as necessary to write your codes and explain your steps."
   ]
  },
  {
   "cell_type": "code",
   "execution_count": 49,
   "metadata": {},
   "outputs": [
    {
     "output_type": "execute_result",
     "data": {
      "text/plain": [
       "                           amount_spent\n",
       "Country        CustomerID              \n",
       "Netherlands    14646          280206.02\n",
       "United Kingdom 18102          259657.30\n",
       "               17450          194550.79"
      ],
      "text/html": "<div>\n<style scoped>\n    .dataframe tbody tr th:only-of-type {\n        vertical-align: middle;\n    }\n\n    .dataframe tbody tr th {\n        vertical-align: top;\n    }\n\n    .dataframe thead th {\n        text-align: right;\n    }\n</style>\n<table border=\"1\" class=\"dataframe\">\n  <thead>\n    <tr style=\"text-align: right;\">\n      <th></th>\n      <th></th>\n      <th>amount_spent</th>\n    </tr>\n    <tr>\n      <th>Country</th>\n      <th>CustomerID</th>\n      <th></th>\n    </tr>\n  </thead>\n  <tbody>\n    <tr>\n      <th>Netherlands</th>\n      <th>14646</th>\n      <td>280206.02</td>\n    </tr>\n    <tr>\n      <th rowspan=\"2\" valign=\"top\">United Kingdom</th>\n      <th>18102</th>\n      <td>259657.30</td>\n    </tr>\n    <tr>\n      <th>17450</th>\n      <td>194550.79</td>\n    </tr>\n  </tbody>\n</table>\n</div>"
     },
     "metadata": {},
     "execution_count": 49
    }
   ],
   "source": [
    "# your code here\n",
    "amount = orders.groupby(['Country','CustomerID']).agg({'amount_spent':'sum'}).sort_values(by='amount_spent', ascending=False)\n",
    "amount.head(3)"
   ]
  },
  {
   "cell_type": "code",
   "execution_count": 22,
   "metadata": {},
   "outputs": [
    {
     "output_type": "execute_result",
     "data": {
      "text/plain": [
       "      amount_spent\n",
       "0.00         0.000\n",
       "0.25       307.245\n",
       "0.50       674.450\n",
       "0.75      1661.640\n",
       "0.95      5840.182\n",
       "1.00    280206.020"
      ],
      "text/html": "<div>\n<style scoped>\n    .dataframe tbody tr th:only-of-type {\n        vertical-align: middle;\n    }\n\n    .dataframe tbody tr th {\n        vertical-align: top;\n    }\n\n    .dataframe thead th {\n        text-align: right;\n    }\n</style>\n<table border=\"1\" class=\"dataframe\">\n  <thead>\n    <tr style=\"text-align: right;\">\n      <th></th>\n      <th>amount_spent</th>\n    </tr>\n  </thead>\n  <tbody>\n    <tr>\n      <th>0.00</th>\n      <td>0.000</td>\n    </tr>\n    <tr>\n      <th>0.25</th>\n      <td>307.245</td>\n    </tr>\n    <tr>\n      <th>0.50</th>\n      <td>674.450</td>\n    </tr>\n    <tr>\n      <th>0.75</th>\n      <td>1661.640</td>\n    </tr>\n    <tr>\n      <th>0.95</th>\n      <td>5840.182</td>\n    </tr>\n    <tr>\n      <th>1.00</th>\n      <td>280206.020</td>\n    </tr>\n  </tbody>\n</table>\n</div>"
     },
     "metadata": {},
     "execution_count": 22
    }
   ],
   "source": [
    "amount_quantiles = amount.quantile([0,0.25,0.5,0.75,0.95,1])\n",
    "amount_quantiles"
   ]
  },
  {
   "cell_type": "code",
   "execution_count": 18,
   "metadata": {},
   "outputs": [
    {
     "output_type": "execute_result",
     "data": {
      "text/plain": [
       "4339"
      ]
     },
     "metadata": {},
     "execution_count": 18
    }
   ],
   "source": [
    "len(amount)"
   ]
  },
  {
   "cell_type": "code",
   "execution_count": 77,
   "metadata": {},
   "outputs": [
    {
     "output_type": "stream",
     "name": "stdout",
     "text": [
      "216\n                           amount_spent\nCountry        CustomerID              \nNetherlands    14646          280206.02\nUnited Kingdom 18102          259657.30\n               17450          194550.79\n               16446          168472.50\nEIRE           14911          143825.06\n...                                 ...\nUnited Kingdom 14505            5905.64\n               14415            5900.28\n               14944            5900.25\n               13209            5891.61\n               13534            5870.08\n\n[216 rows x 1 columns]\n"
     ]
    }
   ],
   "source": [
    "vips = amount[amount['amount_spent']>5840.182]\n",
    "print(len(vips))\n",
    "print(vips)"
   ]
  },
  {
   "cell_type": "markdown",
   "metadata": {},
   "source": [
    "Now we'll leave it to you to solve Q2 & Q3, which you can leverage from your solution for Q1:\n",
    "\n",
    "# Q2: How to identify which country has the most VIP Customers?\n",
    "\n",
    "# Q3: How to identify which country has the most VIP+Preferred Customers combined?\n",
    "\n",
    "Provide your solution for Q2 below:"
   ]
  },
  {
   "cell_type": "code",
   "execution_count": 75,
   "metadata": {},
   "outputs": [
    {
     "output_type": "execute_result",
     "data": {
      "text/plain": [
       "Index(['Unnamed: 0', 'InvoiceNo', 'StockCode', 'year', 'month', 'day', 'hour',\n",
       "       'Description', 'Quantity', 'InvoiceDate', 'UnitPrice', 'CustomerID',\n",
       "       'Country', 'amount_spent'],\n",
       "      dtype='object')"
      ]
     },
     "metadata": {},
     "execution_count": 75
    }
   ],
   "source": [
    "orders.columns"
   ]
  },
  {
   "cell_type": "code",
   "execution_count": 76,
   "metadata": {},
   "outputs": [
    {
     "output_type": "execute_result",
     "data": {
      "text/plain": [
       "                 amount_spent\n",
       "Country                      \n",
       "United Kingdom            177\n",
       "Germany                    10\n",
       "France                      9\n",
       "Switzerland                 3\n",
       "Spain                       2\n",
       "Portugal                    2\n",
       "Japan                       2\n",
       "EIRE                        2\n",
       "Finland                     1\n",
       "Channel Islands             1\n",
       "Netherlands                 1\n",
       "Norway                      1\n",
       "Singapore                   1\n",
       "Denmark                     1\n",
       "Sweden                      1\n",
       "Cyprus                      1\n",
       "Australia                   1"
      ],
      "text/html": "<div>\n<style scoped>\n    .dataframe tbody tr th:only-of-type {\n        vertical-align: middle;\n    }\n\n    .dataframe tbody tr th {\n        vertical-align: top;\n    }\n\n    .dataframe thead th {\n        text-align: right;\n    }\n</style>\n<table border=\"1\" class=\"dataframe\">\n  <thead>\n    <tr style=\"text-align: right;\">\n      <th></th>\n      <th>amount_spent</th>\n    </tr>\n    <tr>\n      <th>Country</th>\n      <th></th>\n    </tr>\n  </thead>\n  <tbody>\n    <tr>\n      <th>United Kingdom</th>\n      <td>177</td>\n    </tr>\n    <tr>\n      <th>Germany</th>\n      <td>10</td>\n    </tr>\n    <tr>\n      <th>France</th>\n      <td>9</td>\n    </tr>\n    <tr>\n      <th>Switzerland</th>\n      <td>3</td>\n    </tr>\n    <tr>\n      <th>Spain</th>\n      <td>2</td>\n    </tr>\n    <tr>\n      <th>Portugal</th>\n      <td>2</td>\n    </tr>\n    <tr>\n      <th>Japan</th>\n      <td>2</td>\n    </tr>\n    <tr>\n      <th>EIRE</th>\n      <td>2</td>\n    </tr>\n    <tr>\n      <th>Finland</th>\n      <td>1</td>\n    </tr>\n    <tr>\n      <th>Channel Islands</th>\n      <td>1</td>\n    </tr>\n    <tr>\n      <th>Netherlands</th>\n      <td>1</td>\n    </tr>\n    <tr>\n      <th>Norway</th>\n      <td>1</td>\n    </tr>\n    <tr>\n      <th>Singapore</th>\n      <td>1</td>\n    </tr>\n    <tr>\n      <th>Denmark</th>\n      <td>1</td>\n    </tr>\n    <tr>\n      <th>Sweden</th>\n      <td>1</td>\n    </tr>\n    <tr>\n      <th>Cyprus</th>\n      <td>1</td>\n    </tr>\n    <tr>\n      <th>Australia</th>\n      <td>1</td>\n    </tr>\n  </tbody>\n</table>\n</div>"
     },
     "metadata": {},
     "execution_count": 76
    }
   ],
   "source": [
    "vip_countries = vips.groupby('Country').count().sort_values(by='amount_spent', ascending=False)\n",
    "vip_countries"
   ]
  }
 ],
 "metadata": {
  "kernelspec": {
   "name": "python395jvsc74a57bd0376f5b0795f81aa7b5d99e448d6274743a66c9892fd26cf11e505993f41df5fa",
   "display_name": "Python 3.9.5 64-bit"
  },
  "language_info": {
   "codemirror_mode": {
    "name": "ipython",
    "version": 3
   },
   "file_extension": ".py",
   "mimetype": "text/x-python",
   "name": "python",
   "nbconvert_exporter": "python",
   "pygments_lexer": "ipython3",
   "version": "3.9.5"
  }
 },
 "nbformat": 4,
 "nbformat_minor": 2
}